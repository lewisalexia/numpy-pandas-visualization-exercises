{
 "cells": [
  {
   "cell_type": "markdown",
   "id": "e1743797",
   "metadata": {},
   "source": [
    "# Pandas Review using a Pokemon Dataset"
   ]
  },
  {
   "cell_type": "code",
   "execution_count": null,
   "id": "3266ec83",
   "metadata": {},
   "outputs": [],
   "source": [
    "import pandas as pd\n",
    "\n",
    "df = pd.read_csv('https://gist.githubusercontent.com/armgilles/\\\n",
    "194bcff35001e7eb53a2a8b441e8b2c6/raw/92200bc0a673d5ce2110aaad4544ed6c4010f687/pokemon.csv')"
   ]
  },
  {
   "cell_type": "code",
   "execution_count": null,
   "id": "fabdf1a6",
   "metadata": {},
   "outputs": [],
   "source": [
    "df"
   ]
  },
  {
   "cell_type": "markdown",
   "id": "4bcda5da",
   "metadata": {},
   "source": [
    "### Practice Exercises"
   ]
  },
  {
   "cell_type": "markdown",
   "id": "fd3ce00d",
   "metadata": {},
   "source": [
    "#### 1. Obtain the following information:\n",
    "    \n",
    "    - dimensions\n",
    "    - dtypes\n",
    "    - column names\n",
    "    - summary statistics\n"
   ]
  },
  {
   "cell_type": "code",
   "execution_count": null,
   "id": "c822639d",
   "metadata": {},
   "outputs": [],
   "source": []
  },
  {
   "cell_type": "markdown",
   "id": "c01a6e9a",
   "metadata": {},
   "source": [
    "#### 2. Change all the column names\n",
    "      - lowercase letters\n",
    "      - remove whitespace\n",
    "      - remove periods"
   ]
  },
  {
   "cell_type": "code",
   "execution_count": null,
   "id": "929b750e",
   "metadata": {},
   "outputs": [],
   "source": []
  },
  {
   "cell_type": "markdown",
   "id": "fbd6e649",
   "metadata": {},
   "source": [
    "#### 3. What is the highest HP value present?"
   ]
  },
  {
   "cell_type": "markdown",
   "id": "59415518",
   "metadata": {},
   "source": [
    "A: 255"
   ]
  },
  {
   "cell_type": "code",
   "execution_count": null,
   "id": "3d306514",
   "metadata": {},
   "outputs": [],
   "source": []
  },
  {
   "cell_type": "markdown",
   "id": "636bbb96",
   "metadata": {},
   "source": [
    "#### 4. Which Pokemon possess(es) the highest HP value?\n",
    "- note: the `name` column is the pokemon name"
   ]
  },
  {
   "cell_type": "markdown",
   "id": "77ee6344",
   "metadata": {},
   "source": [
    "A: Blissey"
   ]
  },
  {
   "cell_type": "code",
   "execution_count": null,
   "id": "075b079b",
   "metadata": {},
   "outputs": [],
   "source": []
  },
  {
   "cell_type": "markdown",
   "id": "af7d6f6c",
   "metadata": {},
   "source": [
    "#### 5. How many different types are represented in Type 1? What are they?\n"
   ]
  },
  {
   "cell_type": "markdown",
   "id": "f35055ba",
   "metadata": {},
   "source": [
    "A: 18,  ['Grass', 'Fire', 'Water', 'Bug', 'Normal', 'Poison', 'Electric',\n",
    "       'Ground', 'Fairy', 'Fighting', 'Psychic', 'Rock', 'Ghost', 'Ice',\n",
    "       'Dragon', 'Dark', 'Steel', 'Flying']"
   ]
  },
  {
   "cell_type": "markdown",
   "id": "f3879c96",
   "metadata": {},
   "source": [
    "#### 6. Number of Pokemon whose Type 2 is Ghost"
   ]
  },
  {
   "cell_type": "markdown",
   "id": "63aadcdd",
   "metadata": {},
   "source": [
    "A: 14"
   ]
  },
  {
   "cell_type": "code",
   "execution_count": null,
   "id": "cb94cfdd",
   "metadata": {},
   "outputs": [],
   "source": []
  },
  {
   "cell_type": "markdown",
   "id": "2f5ba778",
   "metadata": {},
   "source": [
    "#### 7. Percentage of Pokemon whose Type 2 is Ghost"
   ]
  },
  {
   "cell_type": "markdown",
   "id": "2b8bf90f",
   "metadata": {},
   "source": [
    "A: 1.75"
   ]
  },
  {
   "cell_type": "code",
   "execution_count": null,
   "id": "d4961059",
   "metadata": {},
   "outputs": [],
   "source": []
  },
  {
   "cell_type": "markdown",
   "id": "4f99efcb",
   "metadata": {},
   "source": [
    "#### 8. Number of Pokemon whose Attack is greater than Defense"
   ]
  },
  {
   "cell_type": "markdown",
   "id": "9864ea44",
   "metadata": {},
   "source": [
    "A: 433"
   ]
  },
  {
   "cell_type": "code",
   "execution_count": null,
   "id": "f869c801",
   "metadata": {},
   "outputs": [],
   "source": []
  },
  {
   "cell_type": "markdown",
   "id": "443f8450",
   "metadata": {},
   "source": [
    "#### 9. What is the slowest speed for Grass type (either type 1 or type 2)"
   ]
  },
  {
   "cell_type": "markdown",
   "id": "fef144c8",
   "metadata": {},
   "source": [
    "A: 10"
   ]
  },
  {
   "cell_type": "code",
   "execution_count": null,
   "id": "ad123403",
   "metadata": {},
   "outputs": [],
   "source": []
  },
  {
   "cell_type": "markdown",
   "id": "d5075f13",
   "metadata": {},
   "source": [
    "#### 10. Find the average speed by Generation"
   ]
  },
  {
   "cell_type": "markdown",
   "id": "bb84efe4",
   "metadata": {},
   "source": [
    "A: generation\n",
    "- 1:    72.6\n",
    "- 2:    61.8\n",
    "- 3:    66.9\n",
    "- 4:    71.3\n",
    "- 5:    68.1\n",
    "- 6:    66.4"
   ]
  },
  {
   "cell_type": "code",
   "execution_count": null,
   "id": "e2f75271",
   "metadata": {},
   "outputs": [],
   "source": []
  },
  {
   "cell_type": "markdown",
   "id": "3b9d10da",
   "metadata": {},
   "source": [
    "#### 11. How many LEGENDARY Pokemon are DRAGON type?"
   ]
  },
  {
   "cell_type": "code",
   "execution_count": null,
   "id": "8e08530a",
   "metadata": {},
   "outputs": [],
   "source": [
    "df [(df.legendary == True)] "
   ]
  },
  {
   "cell_type": "code",
   "execution_count": null,
   "id": "f81928af",
   "metadata": {
    "scrolled": true
   },
   "outputs": [],
   "source": [
    "df [(df.type_1 == 'Dragon') | (df.type_2 == 'Dragon')] "
   ]
  },
  {
   "cell_type": "code",
   "execution_count": null,
   "id": "e5207163",
   "metadata": {},
   "outputs": [],
   "source": []
  }
 ],
 "metadata": {
  "kernelspec": {
   "display_name": "Python 3 (ipykernel)",
   "language": "python",
   "name": "python3"
  },
  "language_info": {
   "codemirror_mode": {
    "name": "ipython",
    "version": 3
   },
   "file_extension": ".py",
   "mimetype": "text/x-python",
   "name": "python",
   "nbconvert_exporter": "python",
   "pygments_lexer": "ipython3",
   "version": "3.9.13"
  }
 },
 "nbformat": 4,
 "nbformat_minor": 5
}
