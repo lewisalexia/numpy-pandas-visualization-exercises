{
 "cells": [
  {
   "cell_type": "markdown",
   "id": "d78099df",
   "metadata": {},
   "source": [
    "How likely is it that you roll doubles when rolling two dice?"
   ]
  },
  {
   "cell_type": "code",
   "execution_count": 87,
   "id": "4849a160",
   "metadata": {},
   "outputs": [],
   "source": [
    "%matplotlib inline\n",
    "import numpy as np\n",
    "import pandas as pd\n",
    "from scipy import stats\n",
    "np.random.seed(29)"
   ]
  },
  {
   "cell_type": "code",
   "execution_count": 46,
   "id": "263a07e8",
   "metadata": {},
   "outputs": [
    {
     "data": {
      "text/plain": [
       "0.16701"
      ]
     },
     "execution_count": 46,
     "metadata": {},
     "output_type": "execute_result"
    }
   ],
   "source": [
    "outcomes = [1,2,3,4,5,6]\n",
    "n_dice = 2\n",
    "n_simulations = 100_000\n",
    "\n",
    "rolls = np.random.choice(outcomes,(n_simulations, n_dice))\n",
    "\n",
    "doubles = (rolls[:,0] == rolls[:,1]).mean()\n",
    "doubles"
   ]
  },
  {
   "cell_type": "code",
   "execution_count": 42,
   "id": "60925bfe",
   "metadata": {},
   "outputs": [
    {
     "data": {
      "text/plain": [
       "array([[3, 3],\n",
       "       [4, 5],\n",
       "       [3, 2],\n",
       "       ...,\n",
       "       [3, 4],\n",
       "       [5, 5],\n",
       "       [5, 4]])"
      ]
     },
     "execution_count": 42,
     "metadata": {},
     "output_type": "execute_result"
    }
   ],
   "source": [
    "rolls = np.random.choice(outcomes,(n_simulations, n_dice))\n",
    "rolls"
   ]
  },
  {
   "cell_type": "code",
   "execution_count": 43,
   "id": "424c193e",
   "metadata": {},
   "outputs": [],
   "source": [
    "doubles = (rolls[:,0] == rolls[:,1]).mean()"
   ]
  },
  {
   "cell_type": "code",
   "execution_count": 44,
   "id": "9f1b0869",
   "metadata": {},
   "outputs": [
    {
     "data": {
      "text/plain": [
       "0.16633"
      ]
     },
     "execution_count": 44,
     "metadata": {},
     "output_type": "execute_result"
    }
   ],
   "source": [
    "doubles"
   ]
  },
  {
   "cell_type": "markdown",
   "id": "e061e519",
   "metadata": {},
   "source": [
    "Men have an average height of 178 cm and standard deviation of 8cm.\n",
    "Women have a mean of 170, sd = 6cm.\n",
    "Since you have means and standard deviations, you can use np.random.normal to generate observations.\n",
    "If a man and woman are chosen at random, what is the likelihood the woman is taller than the man?"
   ]
  },
  {
   "cell_type": "code",
   "execution_count": 51,
   "id": "b393a94f",
   "metadata": {},
   "outputs": [],
   "source": [
    "men_avg = 178\n",
    "men_std = 8\n",
    "women_avg = 170\n",
    "women_std = 6\n",
    "\n",
    "#men random observation\n",
    "male = np.random.normal(men_avg, men_std)"
   ]
  },
  {
   "cell_type": "code",
   "execution_count": 52,
   "id": "4df49bbb",
   "metadata": {},
   "outputs": [],
   "source": [
    "#women random observation\n",
    "female = np.random.normal(women_avg, women_std)"
   ]
  },
  {
   "cell_type": "code",
   "execution_count": 76,
   "id": "56160583",
   "metadata": {},
   "outputs": [
    {
     "data": {
      "text/plain": [
       "False"
      ]
     },
     "execution_count": 76,
     "metadata": {},
     "output_type": "execute_result"
    }
   ],
   "source": [
    "height = (male < female)\n",
    "height"
   ]
  },
  {
   "cell_type": "code",
   "execution_count": 75,
   "id": "e44fbf8d",
   "metadata": {},
   "outputs": [
    {
     "data": {
      "text/plain": [
       "[181.0100049673415, 173.1643168847998]"
      ]
     },
     "execution_count": 75,
     "metadata": {},
     "output_type": "execute_result"
    }
   ],
   "source": [
    "observations = [male, female]\n",
    "observations"
   ]
  },
  {
   "cell_type": "code",
   "execution_count": null,
   "id": "c351d346",
   "metadata": {},
   "outputs": [],
   "source": []
  },
  {
   "cell_type": "code",
   "execution_count": null,
   "id": "d16205d7",
   "metadata": {},
   "outputs": [],
   "source": []
  },
  {
   "cell_type": "code",
   "execution_count": null,
   "id": "23be824b",
   "metadata": {},
   "outputs": [],
   "source": []
  },
  {
   "cell_type": "code",
   "execution_count": null,
   "id": "59545b5d",
   "metadata": {},
   "outputs": [],
   "source": []
  },
  {
   "cell_type": "code",
   "execution_count": null,
   "id": "a3af8f99",
   "metadata": {},
   "outputs": [],
   "source": []
  },
  {
   "cell_type": "code",
   "execution_count": null,
   "id": "841c354d",
   "metadata": {},
   "outputs": [],
   "source": []
  },
  {
   "cell_type": "code",
   "execution_count": null,
   "id": "3a589b90",
   "metadata": {},
   "outputs": [],
   "source": []
  },
  {
   "cell_type": "code",
   "execution_count": null,
   "id": "aa8a0735",
   "metadata": {},
   "outputs": [],
   "source": []
  },
  {
   "cell_type": "code",
   "execution_count": null,
   "id": "afe7a688",
   "metadata": {},
   "outputs": [],
   "source": []
  },
  {
   "cell_type": "code",
   "execution_count": null,
   "id": "d93ebdc9",
   "metadata": {},
   "outputs": [],
   "source": []
  },
  {
   "cell_type": "code",
   "execution_count": null,
   "id": "8376e86b",
   "metadata": {},
   "outputs": [],
   "source": []
  },
  {
   "cell_type": "code",
   "execution_count": null,
   "id": "0da492af",
   "metadata": {},
   "outputs": [],
   "source": []
  },
  {
   "cell_type": "code",
   "execution_count": null,
   "id": "c55c0b88",
   "metadata": {},
   "outputs": [],
   "source": []
  },
  {
   "cell_type": "code",
   "execution_count": null,
   "id": "12733d88",
   "metadata": {},
   "outputs": [],
   "source": []
  },
  {
   "cell_type": "code",
   "execution_count": null,
   "id": "3d4f1ae8",
   "metadata": {},
   "outputs": [],
   "source": []
  },
  {
   "cell_type": "markdown",
   "id": "37de1097",
   "metadata": {},
   "source": [
    "Mini Exercise:"
   ]
  },
  {
   "cell_type": "code",
   "execution_count": 86,
   "id": "4a77a8cd",
   "metadata": {},
   "outputs": [],
   "source": [
    "bat_life = 14\n",
    "bat_sd = 1.5"
   ]
  },
  {
   "cell_type": "markdown",
   "id": "e2b0c7f7",
   "metadata": {},
   "source": [
    "# 1"
   ]
  },
  {
   "cell_type": "markdown",
   "id": "3a8692d1",
   "metadata": {},
   "source": [
    "Normal"
   ]
  },
  {
   "cell_type": "markdown",
   "id": "00d00199",
   "metadata": {},
   "source": [
    "14 hours and 1.5 standard deviation"
   ]
  },
  {
   "cell_type": "markdown",
   "id": "66a0ded3",
   "metadata": {},
   "source": [
    "Create scipy"
   ]
  },
  {
   "cell_type": "code",
   "execution_count": 89,
   "id": "3be63824",
   "metadata": {},
   "outputs": [],
   "source": [
    "bat_norm = stats.norm(bat_life, bat_sd)"
   ]
  },
  {
   "cell_type": "markdown",
   "id": "74867a6e",
   "metadata": {},
   "source": [
    "a"
   ]
  },
  {
   "cell_type": "code",
   "execution_count": 91,
   "id": "b64e51d8",
   "metadata": {},
   "outputs": [
    {
     "data": {
      "text/plain": [
       "9.121121972586788"
      ]
     },
     "execution_count": 91,
     "metadata": {},
     "output_type": "execute_result"
    }
   ],
   "source": [
    "bat_norm.sf(16)*100"
   ]
  },
  {
   "cell_type": "markdown",
   "id": "1942f430",
   "metadata": {},
   "source": [
    "b"
   ]
  },
  {
   "cell_type": "code",
   "execution_count": 92,
   "id": "a80db0cd",
   "metadata": {},
   "outputs": [
    {
     "data": {
      "text/plain": [
       "10.934004978399576"
      ]
     },
     "execution_count": 92,
     "metadata": {},
     "output_type": "execute_result"
    }
   ],
   "source": [
    "bat_norm.pdf(12)*100"
   ]
  },
  {
   "cell_type": "markdown",
   "id": "e0015aa9",
   "metadata": {},
   "source": [
    "c"
   ]
  },
  {
   "cell_type": "code",
   "execution_count": 96,
   "id": "fe171075",
   "metadata": {},
   "outputs": [
    {
     "data": {
      "text/plain": [
       "9.121121972586788"
      ]
     },
     "execution_count": 96,
     "metadata": {},
     "output_type": "execute_result"
    }
   ],
   "source": [
    "bat_norm.cdf(12)*100"
   ]
  },
  {
   "cell_type": "markdown",
   "id": "5330e935",
   "metadata": {},
   "source": [
    "d"
   ]
  },
  {
   "cell_type": "code",
   "execution_count": 94,
   "id": "3ce847ff",
   "metadata": {},
   "outputs": [
    {
     "data": {
      "text/plain": [
       "15.011734625294123"
      ]
     },
     "execution_count": 94,
     "metadata": {},
     "output_type": "execute_result"
    }
   ],
   "source": [
    "bat_norm.isf(.25)"
   ]
  }
 ],
 "metadata": {
  "kernelspec": {
   "display_name": "Python 3 (ipykernel)",
   "language": "python",
   "name": "python3"
  },
  "language_info": {
   "codemirror_mode": {
    "name": "ipython",
    "version": 3
   },
   "file_extension": ".py",
   "mimetype": "text/x-python",
   "name": "python",
   "nbconvert_exporter": "python",
   "pygments_lexer": "ipython3",
   "version": "3.9.13"
  }
 },
 "nbformat": 4,
 "nbformat_minor": 5
}
